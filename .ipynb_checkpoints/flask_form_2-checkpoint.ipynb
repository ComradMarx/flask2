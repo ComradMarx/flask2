{
 "cells": [
  {
   "cell_type": "code",
   "execution_count": 204,
   "id": "bdc3abb8-b728-4a50-8b66-e2d565339ba3",
   "metadata": {
    "tags": []
   },
   "outputs": [
    {
     "data": {
      "text/plain": [
       "'/Users/deanemarks/Desktop/form'"
      ]
     },
     "execution_count": 204,
     "metadata": {},
     "output_type": "execute_result"
    }
   ],
   "source": [
    "os.getcwd()"
   ]
  },
  {
   "cell_type": "code",
   "execution_count": 203,
   "id": "769c69e5-aded-436c-9c4d-e8e3c19b0752",
   "metadata": {
    "tags": []
   },
   "outputs": [
    {
     "data": {
      "text/plain": [
       "'2023_06_10___01:22:51.609898'"
      ]
     },
     "execution_count": 203,
     "metadata": {},
     "output_type": "execute_result"
    }
   ],
   "source": [
    "import datetime\n",
    "now = datetime.datetime.now()\n",
    "now = str(now).replace('-','_').replace(' ','___')\n",
    "now"
   ]
  },
  {
   "cell_type": "code",
   "execution_count": 257,
   "id": "9e8ae03b-407e-4d30-ba3a-8f63906e1e3d",
   "metadata": {
    "tags": []
   },
   "outputs": [],
   "source": [
    "\n",
    "from flask import Flask, render_template, request\n",
    "import pandas as pd\n",
    "import os\n",
    "from PIL import Image, ImageDraw , ImageFont, ImageOps, ImageFilter\n",
    "import requests as r\n",
    "from bs4 import BeautifulSoup\n",
    "import random\n",
    "import time\n",
    "\n",
    "\n",
    "%run /Users/deanemarks/Desktop/Delta_Dawn_&_Python/Functions.ipynb\n",
    "\n",
    "\n",
    "\n",
    "\n",
    "\n",
    "app = Flask(__name__)\n",
    "@app.route('/', methods=['GET', 'POST'])\n",
    "\n",
    "            \n",
    "            \n",
    "def index():\n",
    "\n",
    "    if request.method == 'POST':\n",
    "        \n",
    "        \n",
    "        if 'form1-submit' in request.form:\n",
    "            \n",
    "            #read in the file from the html\n",
    "            file = request.files['imageFile']\n",
    "            \n",
    "            #define_now:\n",
    "            now = datetime.datetime.now()\n",
    "            now = str(now).replace('-','_').replace(' ','___').replace('.','____')\n",
    "            \n",
    "            \n",
    "            #create a new folder in the uploads folder:\n",
    "            os.mkdir(f'/Users/deanemarks/Desktop/form/static/uploads/{now}')\n",
    "            \n",
    "            \n",
    "            #save the file\n",
    "            file.save(f'/Users/deanemarks/Desktop/form/static/uploads/{now}/logo.png')\n",
    "            \n",
    "            \n",
    "            #read in the file\n",
    "            logo = Image.open(f\"/Users/deanemarks/Desktop/form/static/uploads/{now}/logo.png\").convert('RGBA')\n",
    "            \n",
    "            \n",
    "\n",
    "            #how do I activate this? \n",
    "            #logo = kill_white(logo)\n",
    "            \n",
    "\n",
    "                \n",
    "            #read in the shapes\n",
    "            front_shape = Image.open(f\"/Users/deanemarks/Desktop/bow/shapes/front.png\").convert('RGBA')\n",
    "            back_shape = Image.open(f\"/Users/deanemarks/Desktop/bow/shapes/back.png\").convert('RGBA')\n",
    "            center_shape = Image.open(f\"/Users/deanemarks/Desktop/bow/shapes/center.png\").convert('RGBA')\n",
    "            strap_shape = Image.open(f\"/Users/deanemarks/Desktop/bow/shapes/strap.png\").convert('RGBA')\n",
    "\n",
    "\n",
    "\n",
    "\n",
    "\n",
    "            Y = 1\n",
    "\n",
    "            while Y < 11:\n",
    "            #while Y < 2:\n",
    "\n",
    "\n",
    "                if Y == 1:\n",
    "                    logo_size = 50\n",
    "\n",
    "                if  Y == 2:\n",
    "                    logo_size = 75\n",
    "\n",
    "                if  Y == 3:\n",
    "                    logo_size = 100   \n",
    "\n",
    "                if  Y == 4:\n",
    "                    logo_size = 125\n",
    "\n",
    "                if  Y == 5:\n",
    "                    logo_size = 150\n",
    "\n",
    "                if  Y == 5:\n",
    "                    logo_size = 175\n",
    "\n",
    "                if  Y == 7:\n",
    "                    logo_size = 200   \n",
    "\n",
    "                if  Y == 8:\n",
    "                    logo_size = 225\n",
    "\n",
    "                if  Y == 9:\n",
    "                    logo_size = 250\n",
    "\n",
    "                if  Y == 10:\n",
    "                    logo_size = 275\n",
    "\n",
    "\n",
    "\n",
    "\n",
    "                logo = resize_img_porportional_by_height(img = logo, \n",
    "                                          desired_height = logo_size )\n",
    "\n",
    "\n",
    "                #selects smallest side as the margin\n",
    "                size_list = list(logo.size)\n",
    "                size_list.sort()\n",
    "                logo_margin = size_list[0]\n",
    "                logo_margin = int(logo_margin/ 2)\n",
    "\n",
    "                #transparent brick layer with logos\n",
    "                ########################################\n",
    "                brick = brick_logo(\n",
    "                           Y_margin = logo_margin, \n",
    "                           X_margin = logo_margin, \n",
    "                           Z_margin= logo_margin, \n",
    "                           logo_rotation=0, \n",
    "                           logo_variable = logo, \n",
    "                           img_variable = front_shape)\n",
    "\n",
    "\n",
    "\n",
    "                # create a Mask from bow shapes and transparent logo brick \n",
    "                front_mask = mask(shape_image = front_shape , design_image = brick )\n",
    "                center_mask = mask(shape_image = center_shape , design_image = brick.rotate(90) )\n",
    "                brick = shift_image(brick, lef_right_variable = 20, up_down_variable = 0)   #shift the brick\n",
    "                back_mask = mask(shape_image = back_shape  , design_image = brick.rotate(180))\n",
    "                brick = shift_image(brick, lef_right_variable = -20, up_down_variable = 0) #SHIFT THE BRICK BACK? \n",
    "                strap_mask = mask(shape_image = strap_shape  , design_image = brick )\n",
    "\n",
    "\n",
    "\n",
    "\n",
    "                #put combine the images\n",
    "                result = Image.alpha_composite(strap_mask, back_mask)\n",
    "                result = Image.alpha_composite(result, front_mask)\n",
    "                result = Image.alpha_composite(result, center_mask)\n",
    "\n",
    "\n",
    "\n",
    "                result.save(f'/Users/deanemarks/Desktop/form/static/uploads/{now}/{Y}.png')\n",
    "                print(Y)\n",
    "\n",
    "                Y+=1 \n",
    "\n",
    "\n",
    "\n",
    "            #delete everything \n",
    "            def delete_files_in_folder(folder_path):\n",
    "                # Get all the files in the folder\n",
    "                files = os.listdir(folder_path)\n",
    "\n",
    "                # Iterate over each file and delete it\n",
    "                for file_name in files:\n",
    "                    file_path = os.path.join(folder_path, file_name)\n",
    "                    if os.path.isfile(file_path):\n",
    "                        os.remove(file_path)\n",
    "\n",
    "                        \n",
    "            #delete_files_in_folder('/Users/deanemarks/Desktop/form/uploads')\n",
    "\n",
    "            \n",
    "\n",
    "            \n",
    "            #return render_template('index3.html')\n",
    "            return render_template('index3.html', html_variable = now), now\n",
    "\n",
    "        \n",
    "        \n",
    "        \n",
    "        if 'form2-submit' in request.form:\n",
    "            # Action for Form 2 submission\n",
    "            #return 'Form 2 submitted!'\n",
    "    \n",
    "        \n",
    "            front = request.form.get('front-select')\n",
    "            center = request.form.get('center-select')\n",
    "            back = request.form.get('back-select')\n",
    "            logo_size = request.form.get('logo-select')\n",
    "\n",
    "            # Append DataFrame to an existing CSV file\n",
    "            df = pd.DataFrame([front,center,back, logo_size, now] ).T\n",
    "            csv_file = 'orders.csv'\n",
    "            df.to_csv(csv_file, mode='a', header=False, index=False)\n",
    "\n",
    "        \n",
    "        #what appears on the screen after you hit submit\n",
    "        #print(d1,d2,d3)\n",
    "        return f\"you selected, {front}, {center}, {back}, {logo_size}, {now} \"  \n",
    "        \n",
    "        \n",
    "\n",
    "        \n",
    "    #this is where the HTML Goes.\n",
    "    #############################################################\n",
    "    return render_template('index.html')\n",
    "    #############################################################\n",
    "\n",
    "    \n",
    "    \n",
    "    \n",
    "    "
   ]
  },
  {
   "cell_type": "code",
   "execution_count": null,
   "id": "c87bf591-6263-42a9-966e-9b7c325e44b8",
   "metadata": {
    "tags": []
   },
   "outputs": [
    {
     "name": "stdout",
     "output_type": "stream",
     "text": [
      " * Serving Flask app '__main__'\n",
      " * Debug mode: off\n"
     ]
    },
    {
     "name": "stderr",
     "output_type": "stream",
     "text": [
      "\u001b[31m\u001b[1mWARNING: This is a development server. Do not use it in a production deployment. Use a production WSGI server instead.\u001b[0m\n",
      " * Running on all addresses (0.0.0.0)\n",
      " * Running on http://127.0.0.1:5000\n",
      " * Running on http://192.168.1.66:5000\n",
      "\u001b[33mPress CTRL+C to quit\u001b[0m\n",
      "127.0.0.1 - - [10/Jun/2023 02:44:19] \"GET / HTTP/1.1\" 200 -\n",
      "127.0.0.1 - - [10/Jun/2023 02:44:19] \"\u001b[36mGET /static/center_colors/white.png HTTP/1.1\u001b[0m\" 304 -\n",
      "127.0.0.1 - - [10/Jun/2023 02:44:19] \"\u001b[36mGET /static/logo_mask/0.png HTTP/1.1\u001b[0m\" 304 -\n",
      "127.0.0.1 - - [10/Jun/2023 02:44:19] \"\u001b[36mGET /static/front_colors/white.png HTTP/1.1\u001b[0m\" 304 -\n",
      "127.0.0.1 - - [10/Jun/2023 02:44:19] \"\u001b[36mGET /static/back_colors/white.png HTTP/1.1\u001b[0m\" 304 -\n",
      "127.0.0.1 - - [10/Jun/2023 02:44:19] \"\u001b[36mGET /static/strap_colors/white.png HTTP/1.1\u001b[0m\" 304 -\n",
      "127.0.0.1 - - [10/Jun/2023 02:44:19] \"\u001b[36mGET /static/images/color_pallet_2.png HTTP/1.1\u001b[0m\" 304 -\n"
     ]
    },
    {
     "name": "stdout",
     "output_type": "stream",
     "text": [
      "1\n",
      "2\n",
      "3\n",
      "4\n",
      "5\n",
      "6\n",
      "7\n",
      "8\n",
      "9\n"
     ]
    },
    {
     "name": "stderr",
     "output_type": "stream",
     "text": [
      "127.0.0.1 - - [10/Jun/2023 02:44:34] \"POST / HTTP/1.1\" 200 -\n",
      "127.0.0.1 - - [10/Jun/2023 02:44:34] \"GET /static/uploads/2023_06_10___02:44:26____087209/1.png HTTP/1.1\" 200 -\n",
      "127.0.0.1 - - [10/Jun/2023 02:44:34] \"\u001b[36mGET /static/center_colors/white.png HTTP/1.1\u001b[0m\" 304 -\n"
     ]
    },
    {
     "name": "stdout",
     "output_type": "stream",
     "text": [
      "10\n"
     ]
    },
    {
     "name": "stderr",
     "output_type": "stream",
     "text": [
      "127.0.0.1 - - [10/Jun/2023 02:44:34] \"\u001b[36mGET /static/front_colors/white.png HTTP/1.1\u001b[0m\" 304 -\n",
      "127.0.0.1 - - [10/Jun/2023 02:44:34] \"\u001b[36mGET /static/back_colors/white.png HTTP/1.1\u001b[0m\" 304 -\n",
      "127.0.0.1 - - [10/Jun/2023 02:44:34] \"\u001b[36mGET /static/strap_colors/white.png HTTP/1.1\u001b[0m\" 304 -\n",
      "127.0.0.1 - - [10/Jun/2023 02:44:34] \"\u001b[36mGET /static/images/color_pallet_2.png HTTP/1.1\u001b[0m\" 304 -\n",
      "127.0.0.1 - - [10/Jun/2023 02:44:38] \"GET /static/uploads/2023_06_10___02:44:26____087209/3.png HTTP/1.1\" 200 -\n",
      "127.0.0.1 - - [10/Jun/2023 02:44:41] \"\u001b[36mGET /static/front_colors/brick.png HTTP/1.1\u001b[0m\" 304 -\n",
      "127.0.0.1 - - [10/Jun/2023 02:44:45] \"\u001b[36mGET /static/strap_colors/burnt_orange.png HTTP/1.1\u001b[0m\" 304 -\n",
      "127.0.0.1 - - [10/Jun/2023 02:44:45] \"\u001b[36mGET /static/center_colors/burnt_orange.png HTTP/1.1\u001b[0m\" 304 -\n",
      "127.0.0.1 - - [10/Jun/2023 02:44:49] \"GET /static/back_colors/blossom.png HTTP/1.1\" 200 -\n",
      "[2023-06-10 02:44:53,955] ERROR in app: Exception on / [POST]\n",
      "Traceback (most recent call last):\n",
      "  File \"/Users/deanemarks/miniconda3/lib/python3.8/site-packages/flask/app.py\", line 2190, in wsgi_app\n",
      "    response = self.full_dispatch_request()\n",
      "  File \"/Users/deanemarks/miniconda3/lib/python3.8/site-packages/flask/app.py\", line 1486, in full_dispatch_request\n",
      "    rv = self.handle_user_exception(e)\n",
      "  File \"/Users/deanemarks/miniconda3/lib/python3.8/site-packages/flask/app.py\", line 1484, in full_dispatch_request\n",
      "    rv = self.dispatch_request()\n",
      "  File \"/Users/deanemarks/miniconda3/lib/python3.8/site-packages/flask/app.py\", line 1469, in dispatch_request\n",
      "    return self.ensure_sync(self.view_functions[rule.endpoint])(**view_args)\n",
      "  File \"/var/folders/pz/72_1rfl93tgfkmpqrfwh1tfm0000gn/T/ipykernel_81667/2900647695.py\", line 185, in index\n",
      "    df = pd.DataFrame([front,center,back, logo_size, now] ).T\n",
      "UnboundLocalError: local variable 'now' referenced before assignment\n",
      "127.0.0.1 - - [10/Jun/2023 02:44:53] \"\u001b[35m\u001b[1mPOST / HTTP/1.1\u001b[0m\" 500 -\n"
     ]
    }
   ],
   "source": [
    "app.run(host='0.0.0.0', port=5000)"
   ]
  },
  {
   "cell_type": "code",
   "execution_count": null,
   "id": "9a600ba3-cac7-40eb-b699-3c6a66d82de2",
   "metadata": {
    "tags": []
   },
   "outputs": [],
   "source": []
  },
  {
   "cell_type": "code",
   "execution_count": null,
   "id": "0e87b2a1-04eb-4953-8456-24a60948fd42",
   "metadata": {
    "tags": []
   },
   "outputs": [],
   "source": []
  },
  {
   "cell_type": "code",
   "execution_count": null,
   "id": "f9d6d7a6-7ae0-4846-b851-1590dea8f810",
   "metadata": {
    "tags": []
   },
   "outputs": [],
   "source": []
  },
  {
   "cell_type": "code",
   "execution_count": null,
   "id": "7c171917-edf5-455c-bf49-938ab93a802f",
   "metadata": {
    "tags": []
   },
   "outputs": [],
   "source": []
  },
  {
   "cell_type": "code",
   "execution_count": null,
   "id": "43d317e5-a6ce-4cdb-8fed-26d409d0cbc1",
   "metadata": {
    "tags": []
   },
   "outputs": [],
   "source": []
  },
  {
   "cell_type": "code",
   "execution_count": null,
   "id": "46eccd55-32cd-45d0-bbe7-76e20df167ef",
   "metadata": {
    "tags": []
   },
   "outputs": [],
   "source": []
  },
  {
   "cell_type": "code",
   "execution_count": null,
   "id": "f135e03f-6552-4ba4-9e86-695ddbb1a50a",
   "metadata": {
    "tags": []
   },
   "outputs": [],
   "source": []
  },
  {
   "cell_type": "code",
   "execution_count": null,
   "id": "02436a0b-3e69-458d-a076-16ef8a58411e",
   "metadata": {},
   "outputs": [],
   "source": []
  }
 ],
 "metadata": {
  "kernelspec": {
   "display_name": "Python 3 (ipykernel)",
   "language": "python",
   "name": "python3"
  },
  "language_info": {
   "codemirror_mode": {
    "name": "ipython",
    "version": 3
   },
   "file_extension": ".py",
   "mimetype": "text/x-python",
   "name": "python",
   "nbconvert_exporter": "python",
   "pygments_lexer": "ipython3",
   "version": "3.8.16"
  }
 },
 "nbformat": 4,
 "nbformat_minor": 5
}
