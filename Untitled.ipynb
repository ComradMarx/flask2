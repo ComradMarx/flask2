{
 "cells": [
  {
   "cell_type": "code",
   "execution_count": 6,
   "id": "d9e46c87-90e0-4a69-a7fd-e97a571fc05c",
   "metadata": {
    "tags": []
   },
   "outputs": [],
   "source": [
    "\n"
   ]
  },
  {
   "cell_type": "code",
   "execution_count": 7,
   "id": "4462dfee-bab9-45d1-9aa8-6d3987dbdd7d",
   "metadata": {
    "tags": []
   },
   "outputs": [
    {
     "name": "stdout",
     "output_type": "stream",
     "text": [
      "UPDATING GIT HUB\n",
      "########################################################\n",
      "remote: Enumerating objects: 1007, done.\u001b[K\n",
      "remote: Total 1007 (delta 0), reused 0 (delta 0), pack-reused 1007\u001b[K\n",
      "Receiving objects: 100% (1007/1007), 116.99 MiB | 9.00 MiB/s, done.\n",
      "Resolving deltas: 100% (259/259), done.\n",
      "From https://github.com/ComradMarx/flask_bow\n",
      " * branch            main       -> FETCH_HEAD\n",
      "fatal: Not possible to fast-forward, aborting.\n",
      "Reinitialized existing Git repository in /Users/deanemarks/Desktop/form/.git/\n",
      "[main 8cf915b] fUPDATED: 2023-06-10 03:26:06.115194\n",
      " 1 file changed, 20 insertions(+), 25 deletions(-)\n",
      "To https://github.com/ComradMarx/flask_bow.git\n",
      " \u001b[31m! [rejected]       \u001b[m main -> main (non-fast-forward)\n",
      "\u001b[31merror: failed to push some refs to 'https://github.com/ComradMarx/flask_bow.git'\n",
      "\u001b[m\u001b[33mhint: Updates were rejected because the tip of your current branch is behind\u001b[m\n",
      "\u001b[33mhint: its remote counterpart. Integrate the remote changes (e.g.\u001b[m\n",
      "\u001b[33mhint: 'git pull ...') before pushing again.\u001b[m\n",
      "\u001b[33mhint: See the 'Note about fast-forwards' in 'git push --help' for details.\u001b[m\n",
      "########################################################\n",
      "GIT HUB UPDATED\n"
     ]
    }
   ],
   "source": [
    "#setup  \n",
    "import os\n",
    "from datetime import datetime\n",
    "now = datetime.now()\n",
    "now = str(now)\n",
    "\n",
    "\n",
    "#variavles\n",
    "os.chdir('/Users/deanemarks/Desktop/form')  \n",
    "repo_name = 'flask2'\n",
    "\n",
    "\n",
    "\n",
    "print('UPDATING GIT HUB')\n",
    "print('########################################################')\n",
    "                  #change to working directory (where your code is)\n",
    "!git pull https://github.com/ComradMarx/flask_bow.git  main       #pulls the files from github into your directory\n",
    "!git init                                                    #creates a hidden git folder / repo\n",
    "!git add .                                                   #adds all of the \"NEW\" files to the invisible repo\n",
    "!git commit -m f\"UPDATED: {now}\"                    #commits the \"NEW\" files to the repo\n",
    "!git push https://github.com/ComradMarx/flask_bow.git  main       #pushes the files to the repo to github?\n",
    "print('########################################################')\n",
    "print('GIT HUB UPDATED')\n"
   ]
  },
  {
   "cell_type": "code",
   "execution_count": null,
   "id": "34456c4f-1bb6-46ba-afba-7aff7cc200c8",
   "metadata": {},
   "outputs": [],
   "source": []
  }
 ],
 "metadata": {
  "kernelspec": {
   "display_name": "Python 3 (ipykernel)",
   "language": "python",
   "name": "python3"
  },
  "language_info": {
   "codemirror_mode": {
    "name": "ipython",
    "version": 3
   },
   "file_extension": ".py",
   "mimetype": "text/x-python",
   "name": "python",
   "nbconvert_exporter": "python",
   "pygments_lexer": "ipython3",
   "version": "3.8.16"
  }
 },
 "nbformat": 4,
 "nbformat_minor": 5
}
