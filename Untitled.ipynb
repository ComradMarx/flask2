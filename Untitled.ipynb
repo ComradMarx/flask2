{
 "cells": [
  {
   "cell_type": "code",
   "execution_count": 6,
   "id": "d9e46c87-90e0-4a69-a7fd-e97a571fc05c",
   "metadata": {
    "tags": []
   },
   "outputs": [],
   "source": [
    "from datetime import datetime\n",
    "\n",
    "now = datetime.now()\n",
    "now = str(now)"
   ]
  },
  {
   "cell_type": "code",
   "execution_count": null,
   "id": "4462dfee-bab9-45d1-9aa8-6d3987dbdd7d",
   "metadata": {
    "tags": []
   },
   "outputs": [
    {
     "name": "stdout",
     "output_type": "stream",
     "text": [
      "UPDATING GIT HUB\n",
      "########################################################\n"
     ]
    }
   ],
   "source": [
    "#UPDATE GITHUB REPO / WEBPAGE\n",
    "print('UPDATING GIT HUB')\n",
    "print('########################################################')\n",
    "import os\n",
    "\n",
    "os.chdir('/Users/deanemarks/Desktop/form')                    #change to working directory (where your code is)\n",
    "!git pull https://github.com/ComradMarx/flask_bow.git  main       #pulls the files from github into your directory\n",
    "!git init                                                    #creates a hidden git folder / repo\n",
    "!git add .                                                   #adds all of the \"NEW\" files to the invisible repo\n",
    "!git commit -m f\"UPDATED: {now}\"                    #commits the \"NEW\" files to the repo\n",
    "!git push https://github.com/ComradMarx/flask_bow.git  main       #pushes the files to the repo to github?\n",
    "print('########################################################')\n",
    "print('GIT HUB UPDATED')\n"
   ]
  },
  {
   "cell_type": "code",
   "execution_count": null,
   "id": "34456c4f-1bb6-46ba-afba-7aff7cc200c8",
   "metadata": {},
   "outputs": [],
   "source": []
  }
 ],
 "metadata": {
  "kernelspec": {
   "display_name": "Python 3 (ipykernel)",
   "language": "python",
   "name": "python3"
  },
  "language_info": {
   "codemirror_mode": {
    "name": "ipython",
    "version": 3
   },
   "file_extension": ".py",
   "mimetype": "text/x-python",
   "name": "python",
   "nbconvert_exporter": "python",
   "pygments_lexer": "ipython3",
   "version": "3.8.16"
  }
 },
 "nbformat": 4,
 "nbformat_minor": 5
}
