{
 "cells": [
  {
   "cell_type": "code",
   "execution_count": 2,
   "id": "4462dfee-bab9-45d1-9aa8-6d3987dbdd7d",
   "metadata": {
    "tags": []
   },
   "outputs": [
    {
     "name": "stdout",
     "output_type": "stream",
     "text": [
      "UPDATING GIT HUB\n",
      "########################################################\n",
      "fatal: couldn't find remote ref main\n",
      "Reinitialized existing Git repository in /Users/deanemarks/Desktop/bow/.git/\n",
      "[main c38083d] UPDATED: {curr_date_str}\n",
      " 11 files changed, 380 insertions(+), 295 deletions(-)\n",
      " create mode 100644 .ipynb_checkpoints/flask_form-checkpoint.ipynb\n",
      " delete mode 100644 can_see_not_centered.html\n",
      " delete mode 100644 centered: caant see.html\n",
      " create mode 100644 favicon copy.ico\n",
      " create mode 100644 flask_form.ipynb\n",
      " create mode 100644 form.html\n",
      "Enumerating objects: 1007, done.\n",
      "Counting objects: 100% (1007/1007), done.\n",
      "Delta compression using up to 4 threads\n",
      "Compressing objects: 100% (1004/1004), done.\n",
      "Writing objects: 100% (1007/1007), 116.99 MiB | 11.63 MiB/s, done.\n",
      "Total 1007 (delta 259), reused 0 (delta 0), pack-reused 0\n",
      "remote: Resolving deltas: 100% (259/259), done.\u001b[K\n",
      "To https://github.com/ComradMarx/flask_bow.git\n",
      " * [new branch]      main -> main\n",
      "########################################################\n",
      "GIT HUB UPDATED\n"
     ]
    }
   ],
   "source": [
    "#UPDATE GITHUB REPO / WEBPAGE\n",
    "print('UPDATING GIT HUB')\n",
    "print('########################################################')\n",
    "import os\n",
    "os.chdir('/Users/deanemarks/Desktop/bow')                    #change to working directory (where your code is)\n",
    "!git pull https://github.com/ComradMarx/flask_bow.git  main       #pulls the files from github into your directory\n",
    "!git init                                                    #creates a hidden git folder / repo\n",
    "!git add .                                                   #adds all of the \"NEW\" files to the invisible repo\n",
    "!git commit -m \"UPDATED: {curr_date_str}\"                    #commits the \"NEW\" files to the repo\n",
    "!git push https://github.com/ComradMarx/flask_bow.git  main       #pushes the files to the repo to github?\n",
    "print('########################################################')\n",
    "print('GIT HUB UPDATED')\n"
   ]
  },
  {
   "cell_type": "code",
   "execution_count": null,
   "id": "34456c4f-1bb6-46ba-afba-7aff7cc200c8",
   "metadata": {},
   "outputs": [],
   "source": []
  }
 ],
 "metadata": {
  "kernelspec": {
   "display_name": "Python 3 (ipykernel)",
   "language": "python",
   "name": "python3"
  },
  "language_info": {
   "codemirror_mode": {
    "name": "ipython",
    "version": 3
   },
   "file_extension": ".py",
   "mimetype": "text/x-python",
   "name": "python",
   "nbconvert_exporter": "python",
   "pygments_lexer": "ipython3",
   "version": "3.8.16"
  }
 },
 "nbformat": 4,
 "nbformat_minor": 5
}
